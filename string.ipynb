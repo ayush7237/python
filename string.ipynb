{
  "nbformat": 4,
  "nbformat_minor": 0,
  "metadata": {
    "colab": {
      "provenance": [],
      "authorship_tag": "ABX9TyM217r9ikMHm3BcET/ZdFeD",
      "include_colab_link": true
    },
    "kernelspec": {
      "name": "python3",
      "display_name": "Python 3"
    },
    "language_info": {
      "name": "python"
    }
  },
  "cells": [
    {
      "cell_type": "markdown",
      "metadata": {
        "id": "view-in-github",
        "colab_type": "text"
      },
      "source": [
        "<a href=\"https://colab.research.google.com/github/ayush7237/python/blob/main/string.ipynb\" target=\"_parent\"><img src=\"https://colab.research.google.com/assets/colab-badge.svg\" alt=\"Open In Colab\"/></a>"
      ]
    },
    {
      "cell_type": "code",
      "execution_count": 5,
      "metadata": {
        "colab": {
          "base_uri": "https://localhost:8080/"
        },
        "id": "AfbKTd4UYcte",
        "outputId": "cfa416e4-7748-4678-fbf6-b91a5e2449b5"
      },
      "outputs": [
        {
          "output_type": "stream",
          "name": "stdout",
          "text": [
            "'a': 3\n",
            "'y': 2\n",
            "'u': 1\n",
            "'s': 2\n",
            "'h': 2\n",
            "'k': 1\n",
            "'p': 1\n"
          ]
        }
      ],
      "source": [
        "strin =\"ayushkashyap\"\n",
        "# Count character frequencies using a dictionary\n",
        "char_counts = {}\n",
        "for char in strin:\n",
        "  char_counts[char] = char_counts.get(char, 0) + 1\n",
        "\n",
        "# Print the characters and their frequencies\n",
        "for char, count in char_counts.items():\n",
        "  print(f\"'{char}': {count}\")"
      ]
    },
    {
      "cell_type": "code",
      "source": [
        "string1=input(\"enter string 1\")\n",
        "string2=(input(\"enter string 2\"))\n",
        "if string1==string2:\n",
        "   print(\"string are anagram\")\n",
        "else:\n",
        "    print(\"string are not anagram\")"
      ],
      "metadata": {
        "colab": {
          "base_uri": "https://localhost:8080/"
        },
        "id": "aHlX4VMcaU11",
        "outputId": "1c45466d-eebb-4a89-b661-2c8666bb8148"
      },
      "execution_count": 9,
      "outputs": [
        {
          "output_type": "stream",
          "name": "stdout",
          "text": [
            "enter string 1ayush\n",
            "enter string 2ayushi\n",
            "string are not anagram\n"
          ]
        }
      ]
    },
    {
      "cell_type": "code",
      "source": [
        "pass=input(\"enter a password\")\n",
        "\n"
      ],
      "metadata": {
        "id": "CizHolPbbSfc"
      },
      "execution_count": null,
      "outputs": []
    },
    {
      "cell_type": "code",
      "source": [
        "str1=\"hello\"\n",
        "str2=\"world\"\n",
        "str3=\"ayush\"\n",
        "check=input(\"enter characters\")\n",
        "\n",
        "if str1 in check:\n",
        "  print(\"hello\")\n",
        "elif str2 in check:\n",
        "    print(\"world\")\n",
        "elif str3 in check:\n",
        "      print(\"ayush\")\n",
        "else:\n",
        "  print(\"nomatch found\")"
      ],
      "metadata": {
        "colab": {
          "base_uri": "https://localhost:8080/"
        },
        "id": "3S_MNsPaeSBa",
        "outputId": "0f6a18bf-d769-4009-ff19-14e5a6f40bb2"
      },
      "execution_count": 12,
      "outputs": [
        {
          "output_type": "stream",
          "name": "stdout",
          "text": [
            "enter characterscchelloyxayush\n",
            "hello\n"
          ]
        }
      ]
    },
    {
      "cell_type": "code",
      "source": [
        "email=input"
      ],
      "metadata": {
        "id": "MUTZfwpZk5uK"
      },
      "execution_count": null,
      "outputs": []
    }
  ]
}